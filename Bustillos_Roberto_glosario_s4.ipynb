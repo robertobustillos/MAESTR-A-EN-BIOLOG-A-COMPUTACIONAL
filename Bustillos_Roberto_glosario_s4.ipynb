{
  "nbformat": 4,
  "nbformat_minor": 0,
  "metadata": {
    "colab": {
      "provenance": []
    },
    "kernelspec": {
      "name": "python3",
      "display_name": "Python 3"
    },
    "language_info": {
      "name": "python"
    }
  },
  "cells": [
    {
      "cell_type": "markdown",
      "source": [
        "# **MAESTRÍA EN BIOLOGÍA COMPUTACIONAL**"
      ],
      "metadata": {
        "id": "3fO1t5Ui2Qho"
      }
    },
    {
      "cell_type": "markdown",
      "source": [
        "# Tarea 2 Módulo 4"
      ],
      "metadata": {
        "id": "nMqSPFbr2SBg"
      }
    },
    {
      "cell_type": "markdown",
      "source": [
        "**Tema:** Glosario de términos"
      ],
      "metadata": {
        "id": "Qsp21dm42OIp"
      }
    },
    {
      "cell_type": "markdown",
      "source": [
        "**Nombre:** Roberto Bustillos Huilca"
      ],
      "metadata": {
        "id": "IhxRqYRM3U-Y"
      }
    },
    {
      "cell_type": "markdown",
      "source": [
        "*1)* **Algoritmos.-** Son acciones sucesivas que se\n",
        "realizan para resolver problemas por medio de lenguajes de programación (Amo, 2018)."
      ],
      "metadata": {
        "id": "hsb3BkCO3fpo"
      }
    },
    {
      "cell_type": "markdown",
      "source": [
        "2) **Red neuronal.-** Es un conjunto de unidades que está\n",
        "formada por capas de neuronas o\n",
        "nodos de entrada, capas ocultas y\n",
        "una capa final de neuronas de salida.\n",
        "Las capas están conectadas y\n",
        "asociadas con un valor número\n",
        "llamado peso (Wang, 2003)."
      ],
      "metadata": {
        "id": "OtJMLf6BohJz"
      }
    },
    {
      "cell_type": "markdown",
      "source": [
        "*3)* **Codificadores automáticos.-** Son populares para aplicaciones de aprendizaje no supervisado para reducir la dimensionalidad del conjunto de datos y que puedan funcionar de manera óptima (Sewak, 2020)."
      ],
      "metadata": {
        "id": "dbbuWhXEokKP"
      }
    },
    {
      "cell_type": "markdown",
      "source": [
        "*4)* **Convolución.-** Es una operación matemática que describe una regla sobre cómo fusionar dos conjuntos de información. Es una integral que expresa la cantidad de superposición de una función *g* cuando se desplaza sobre otra función *f* (Weisstein, 2003)."
      ],
      "metadata": {
        "id": "0UI1ZXjgwtnv"
      }
    },
    {
      "cell_type": "markdown",
      "source": [
        "*5)* **Modelos de Markov.-** Son modelos estadísticos generales que se usan para problemas 'lineales' como secuencias o serie de tiempo y han sido ampliamente utilizados en aplicaciones de reconocimiento de voz, análisis computacional de secuencias, incluidas las aplicaciones al modelado estructural de proteínas (Eddy, 1996).\n"
      ],
      "metadata": {
        "id": "5x-84SaGze4o"
      }
    },
    {
      "cell_type": "markdown",
      "source": [
        "**Bibliografía**  \n",
        "Amo, D., (2018). Peligrosidad decisiva: ¿Razonar o racionalizar datos educativos?. https://eduliticas.com/2018/08/divulgacion/peligrosidad-decisiva-razonar-o-racionalizardatos-educativos/  \n",
        "Wang, S. C. (2003). Artificial neural network. In Interdisciplinary computing in java programming (pp. 81-100). Springer, Boston, MA  \n",
        "Sewak, M., Sahay, S. K., & Rathore, H. (2020). An overview of deep learning architecture of deep neural networks and autoencoders. Journal of Computational and Theoretical Nanoscience, 17(1), 182-188.  \n",
        "Weisstein, E. W. (2003). Convolution. https://mathworld. wolfram. com/.  \n",
        "Eddy, S. R. (1996). Hidden markov models. Current opinion in structural biology, 6(3), 361-365."
      ],
      "metadata": {
        "id": "_CrEV5Tlokjd"
      }
    }
  ]
}